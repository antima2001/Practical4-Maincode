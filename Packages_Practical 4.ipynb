{
 "cells": [
  {
   "cell_type": "markdown",
   "id": "3d79b007",
   "metadata": {},
   "source": [
    "Program to demonstrate usage of packages "
   ]
  },
  {
   "cell_type": "code",
   "execution_count": 6,
   "id": "1cb298c1",
   "metadata": {},
   "outputs": [
    {
     "name": "stdout",
     "output_type": "stream",
     "text": [
      "Hello, function 'bar_antima' from module 'a' calling\n",
      "Hello, function 'foo_antima' from module 'b' calling\n"
     ]
    }
   ],
   "source": [
    "from Simple_package import a, b\n",
    "a.bar_antima()\n",
    "b.foo_antima()"
   ]
  },
  {
   "cell_type": "code",
   "execution_count": 8,
   "id": "d742b39e",
   "metadata": {},
   "outputs": [
    {
     "name": "stdout",
     "output_type": "stream",
     "text": [
      "Hello, function 'bar_antima' from module 'a' calling\n",
      "Hello, function 'foo_antima' from module 'b' calling\n"
     ]
    }
   ],
   "source": [
    "import Simple_package\n",
    "Simple_package.a.bar_antima()\n",
    "Simple_package.b.foo_antima()"
   ]
  },
  {
   "cell_type": "code",
   "execution_count": null,
   "id": "f9054873",
   "metadata": {},
   "outputs": [],
   "source": []
  }
 ],
 "metadata": {
  "kernelspec": {
   "display_name": "Python 3 (ipykernel)",
   "language": "python",
   "name": "python3"
  },
  "language_info": {
   "codemirror_mode": {
    "name": "ipython",
    "version": 3
   },
   "file_extension": ".py",
   "mimetype": "text/x-python",
   "name": "python",
   "nbconvert_exporter": "python",
   "pygments_lexer": "ipython3",
   "version": "3.9.12"
  }
 },
 "nbformat": 4,
 "nbformat_minor": 5
}
